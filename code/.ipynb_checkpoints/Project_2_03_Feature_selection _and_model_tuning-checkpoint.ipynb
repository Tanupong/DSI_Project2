{
 "cells": [
  {
   "cell_type": "code",
   "execution_count": 1,
   "metadata": {},
   "outputs": [],
   "source": [
    "import pandas as pd\n",
    "import numpy as np\n",
    "import matplotlib.pyplot as plt\n",
    "import seaborn as sns\n",
    "\n",
    "from sklearn.preprocessing import StandardScaler, PolynomialFeatures,OneHotEncoder,LabelEncoder\n",
    "from sklearn.model_selection import cross_val_score\n",
    "from sklearn.linear_model import LinearRegression,Ridge,Lasso,ElasticNet,RidgeCV,LassoCV,ElasticNetCV\n",
    "from sklearn import metrics\n"
   ]
  },
  {
   "cell_type": "markdown",
   "metadata": {},
   "source": [
    "## Import Data"
   ]
  },
  {
   "cell_type": "code",
   "execution_count": 2,
   "metadata": {},
   "outputs": [
    {
     "data": {
      "text/html": [
       "<div>\n",
       "<style scoped>\n",
       "    .dataframe tbody tr th:only-of-type {\n",
       "        vertical-align: middle;\n",
       "    }\n",
       "\n",
       "    .dataframe tbody tr th {\n",
       "        vertical-align: top;\n",
       "    }\n",
       "\n",
       "    .dataframe thead th {\n",
       "        text-align: right;\n",
       "    }\n",
       "</style>\n",
       "<table border=\"1\" class=\"dataframe\">\n",
       "  <thead>\n",
       "    <tr style=\"text-align: right;\">\n",
       "      <th></th>\n",
       "      <th>lot_frontage</th>\n",
       "      <th>lot_area</th>\n",
       "      <th>overall_qual</th>\n",
       "      <th>overall_cond</th>\n",
       "      <th>year_built</th>\n",
       "      <th>year_remod/add</th>\n",
       "      <th>mas_vnr_area</th>\n",
       "      <th>bsmtfin_sf_1</th>\n",
       "      <th>bsmtfin_sf_2</th>\n",
       "      <th>bsmt_unf_sf</th>\n",
       "      <th>...</th>\n",
       "      <th>garage_cars garage_area</th>\n",
       "      <th>garage_cars exter_qual_TA</th>\n",
       "      <th>garage_cars foundation_PConc</th>\n",
       "      <th>garage_cars kitchen_qual_TA</th>\n",
       "      <th>garage_area exter_qual_TA</th>\n",
       "      <th>garage_area foundation_PConc</th>\n",
       "      <th>garage_area kitchen_qual_TA</th>\n",
       "      <th>exter_qual_TA foundation_PConc</th>\n",
       "      <th>exter_qual_TA kitchen_qual_TA</th>\n",
       "      <th>foundation_PConc kitchen_qual_TA</th>\n",
       "    </tr>\n",
       "  </thead>\n",
       "  <tbody>\n",
       "    <tr>\n",
       "      <th>0</th>\n",
       "      <td>69.0552</td>\n",
       "      <td>13517</td>\n",
       "      <td>6</td>\n",
       "      <td>8</td>\n",
       "      <td>1976</td>\n",
       "      <td>2005</td>\n",
       "      <td>289.0</td>\n",
       "      <td>533.0</td>\n",
       "      <td>0.0</td>\n",
       "      <td>192.0</td>\n",
       "      <td>...</td>\n",
       "      <td>950.0</td>\n",
       "      <td>0.0</td>\n",
       "      <td>0.0</td>\n",
       "      <td>0.0</td>\n",
       "      <td>0.0</td>\n",
       "      <td>0.0</td>\n",
       "      <td>0.0</td>\n",
       "      <td>0.0</td>\n",
       "      <td>0.0</td>\n",
       "      <td>0.0</td>\n",
       "    </tr>\n",
       "    <tr>\n",
       "      <th>1</th>\n",
       "      <td>43.0000</td>\n",
       "      <td>11492</td>\n",
       "      <td>7</td>\n",
       "      <td>5</td>\n",
       "      <td>1996</td>\n",
       "      <td>1997</td>\n",
       "      <td>132.0</td>\n",
       "      <td>637.0</td>\n",
       "      <td>0.0</td>\n",
       "      <td>276.0</td>\n",
       "      <td>...</td>\n",
       "      <td>1118.0</td>\n",
       "      <td>0.0</td>\n",
       "      <td>2.0</td>\n",
       "      <td>0.0</td>\n",
       "      <td>0.0</td>\n",
       "      <td>559.0</td>\n",
       "      <td>0.0</td>\n",
       "      <td>0.0</td>\n",
       "      <td>0.0</td>\n",
       "      <td>0.0</td>\n",
       "    </tr>\n",
       "    <tr>\n",
       "      <th>2</th>\n",
       "      <td>68.0000</td>\n",
       "      <td>7922</td>\n",
       "      <td>5</td>\n",
       "      <td>7</td>\n",
       "      <td>1953</td>\n",
       "      <td>2007</td>\n",
       "      <td>0.0</td>\n",
       "      <td>731.0</td>\n",
       "      <td>0.0</td>\n",
       "      <td>326.0</td>\n",
       "      <td>...</td>\n",
       "      <td>246.0</td>\n",
       "      <td>1.0</td>\n",
       "      <td>0.0</td>\n",
       "      <td>0.0</td>\n",
       "      <td>246.0</td>\n",
       "      <td>0.0</td>\n",
       "      <td>0.0</td>\n",
       "      <td>0.0</td>\n",
       "      <td>0.0</td>\n",
       "      <td>0.0</td>\n",
       "    </tr>\n",
       "    <tr>\n",
       "      <th>3</th>\n",
       "      <td>73.0000</td>\n",
       "      <td>9802</td>\n",
       "      <td>5</td>\n",
       "      <td>5</td>\n",
       "      <td>2006</td>\n",
       "      <td>2007</td>\n",
       "      <td>0.0</td>\n",
       "      <td>0.0</td>\n",
       "      <td>0.0</td>\n",
       "      <td>384.0</td>\n",
       "      <td>...</td>\n",
       "      <td>800.0</td>\n",
       "      <td>2.0</td>\n",
       "      <td>2.0</td>\n",
       "      <td>2.0</td>\n",
       "      <td>400.0</td>\n",
       "      <td>400.0</td>\n",
       "      <td>400.0</td>\n",
       "      <td>1.0</td>\n",
       "      <td>1.0</td>\n",
       "      <td>1.0</td>\n",
       "    </tr>\n",
       "    <tr>\n",
       "      <th>4</th>\n",
       "      <td>82.0000</td>\n",
       "      <td>14235</td>\n",
       "      <td>6</td>\n",
       "      <td>8</td>\n",
       "      <td>1900</td>\n",
       "      <td>1993</td>\n",
       "      <td>0.0</td>\n",
       "      <td>0.0</td>\n",
       "      <td>0.0</td>\n",
       "      <td>676.0</td>\n",
       "      <td>...</td>\n",
       "      <td>968.0</td>\n",
       "      <td>2.0</td>\n",
       "      <td>2.0</td>\n",
       "      <td>2.0</td>\n",
       "      <td>484.0</td>\n",
       "      <td>484.0</td>\n",
       "      <td>484.0</td>\n",
       "      <td>1.0</td>\n",
       "      <td>1.0</td>\n",
       "      <td>1.0</td>\n",
       "    </tr>\n",
       "  </tbody>\n",
       "</table>\n",
       "<p>5 rows × 365 columns</p>\n",
       "</div>"
      ],
      "text/plain": [
       "   lot_frontage  lot_area  overall_qual  overall_cond  year_built  \\\n",
       "0       69.0552     13517             6             8        1976   \n",
       "1       43.0000     11492             7             5        1996   \n",
       "2       68.0000      7922             5             7        1953   \n",
       "3       73.0000      9802             5             5        2006   \n",
       "4       82.0000     14235             6             8        1900   \n",
       "\n",
       "   year_remod/add  mas_vnr_area  bsmtfin_sf_1  bsmtfin_sf_2  bsmt_unf_sf  ...  \\\n",
       "0            2005         289.0         533.0           0.0        192.0  ...   \n",
       "1            1997         132.0         637.0           0.0        276.0  ...   \n",
       "2            2007           0.0         731.0           0.0        326.0  ...   \n",
       "3            2007           0.0           0.0           0.0        384.0  ...   \n",
       "4            1993           0.0           0.0           0.0        676.0  ...   \n",
       "\n",
       "   garage_cars garage_area  garage_cars exter_qual_TA  \\\n",
       "0                    950.0                        0.0   \n",
       "1                   1118.0                        0.0   \n",
       "2                    246.0                        1.0   \n",
       "3                    800.0                        2.0   \n",
       "4                    968.0                        2.0   \n",
       "\n",
       "   garage_cars foundation_PConc  garage_cars kitchen_qual_TA  \\\n",
       "0                           0.0                          0.0   \n",
       "1                           2.0                          0.0   \n",
       "2                           0.0                          0.0   \n",
       "3                           2.0                          2.0   \n",
       "4                           2.0                          2.0   \n",
       "\n",
       "   garage_area exter_qual_TA  garage_area foundation_PConc  \\\n",
       "0                        0.0                           0.0   \n",
       "1                        0.0                         559.0   \n",
       "2                      246.0                           0.0   \n",
       "3                      400.0                         400.0   \n",
       "4                      484.0                         484.0   \n",
       "\n",
       "   garage_area kitchen_qual_TA  exter_qual_TA foundation_PConc  \\\n",
       "0                          0.0                             0.0   \n",
       "1                          0.0                             0.0   \n",
       "2                          0.0                             0.0   \n",
       "3                        400.0                             1.0   \n",
       "4                        484.0                             1.0   \n",
       "\n",
       "   exter_qual_TA kitchen_qual_TA  foundation_PConc kitchen_qual_TA  \n",
       "0                            0.0                               0.0  \n",
       "1                            0.0                               0.0  \n",
       "2                            0.0                               0.0  \n",
       "3                            1.0                               1.0  \n",
       "4                            1.0                               1.0  \n",
       "\n",
       "[5 rows x 365 columns]"
      ]
     },
     "execution_count": 2,
     "metadata": {},
     "output_type": "execute_result"
    }
   ],
   "source": [
    "#load train_cleaned.csv\n",
    "train = pd.read_csv('../datasets/train_cleaned_preprocessed.csv')\n",
    "train.head()"
   ]
  },
  {
   "cell_type": "code",
   "execution_count": 3,
   "metadata": {
    "scrolled": true
   },
   "outputs": [
    {
     "data": {
      "text/html": [
       "<div>\n",
       "<style scoped>\n",
       "    .dataframe tbody tr th:only-of-type {\n",
       "        vertical-align: middle;\n",
       "    }\n",
       "\n",
       "    .dataframe tbody tr th {\n",
       "        vertical-align: top;\n",
       "    }\n",
       "\n",
       "    .dataframe thead th {\n",
       "        text-align: right;\n",
       "    }\n",
       "</style>\n",
       "<table border=\"1\" class=\"dataframe\">\n",
       "  <thead>\n",
       "    <tr style=\"text-align: right;\">\n",
       "      <th></th>\n",
       "      <th>id</th>\n",
       "      <th>lot_frontage</th>\n",
       "      <th>lot_area</th>\n",
       "      <th>overall_qual</th>\n",
       "      <th>overall_cond</th>\n",
       "      <th>year_built</th>\n",
       "      <th>year_remod/add</th>\n",
       "      <th>mas_vnr_area</th>\n",
       "      <th>bsmtfin_sf_1</th>\n",
       "      <th>bsmtfin_sf_2</th>\n",
       "      <th>...</th>\n",
       "      <th>garage_cars garage_area</th>\n",
       "      <th>garage_cars exter_qual_TA</th>\n",
       "      <th>garage_cars foundation_PConc</th>\n",
       "      <th>garage_cars kitchen_qual_TA</th>\n",
       "      <th>garage_area exter_qual_TA</th>\n",
       "      <th>garage_area foundation_PConc</th>\n",
       "      <th>garage_area kitchen_qual_TA</th>\n",
       "      <th>exter_qual_TA foundation_PConc</th>\n",
       "      <th>exter_qual_TA kitchen_qual_TA</th>\n",
       "      <th>foundation_PConc kitchen_qual_TA</th>\n",
       "    </tr>\n",
       "  </thead>\n",
       "  <tbody>\n",
       "    <tr>\n",
       "      <th>0</th>\n",
       "      <td>2658</td>\n",
       "      <td>69.0000</td>\n",
       "      <td>9142</td>\n",
       "      <td>6</td>\n",
       "      <td>8</td>\n",
       "      <td>1910</td>\n",
       "      <td>1950</td>\n",
       "      <td>0.0</td>\n",
       "      <td>0</td>\n",
       "      <td>0</td>\n",
       "      <td>...</td>\n",
       "      <td>440.0</td>\n",
       "      <td>1.0</td>\n",
       "      <td>0.0</td>\n",
       "      <td>0.0</td>\n",
       "      <td>440.0</td>\n",
       "      <td>0.0</td>\n",
       "      <td>0.0</td>\n",
       "      <td>0.0</td>\n",
       "      <td>0.0</td>\n",
       "      <td>0.0</td>\n",
       "    </tr>\n",
       "    <tr>\n",
       "      <th>1</th>\n",
       "      <td>2718</td>\n",
       "      <td>69.0552</td>\n",
       "      <td>9662</td>\n",
       "      <td>5</td>\n",
       "      <td>4</td>\n",
       "      <td>1977</td>\n",
       "      <td>1977</td>\n",
       "      <td>0.0</td>\n",
       "      <td>0</td>\n",
       "      <td>0</td>\n",
       "      <td>...</td>\n",
       "      <td>1160.0</td>\n",
       "      <td>2.0</td>\n",
       "      <td>0.0</td>\n",
       "      <td>2.0</td>\n",
       "      <td>580.0</td>\n",
       "      <td>0.0</td>\n",
       "      <td>580.0</td>\n",
       "      <td>0.0</td>\n",
       "      <td>1.0</td>\n",
       "      <td>0.0</td>\n",
       "    </tr>\n",
       "    <tr>\n",
       "      <th>2</th>\n",
       "      <td>2414</td>\n",
       "      <td>58.0000</td>\n",
       "      <td>17104</td>\n",
       "      <td>7</td>\n",
       "      <td>5</td>\n",
       "      <td>2006</td>\n",
       "      <td>2006</td>\n",
       "      <td>0.0</td>\n",
       "      <td>554</td>\n",
       "      <td>0</td>\n",
       "      <td>...</td>\n",
       "      <td>852.0</td>\n",
       "      <td>0.0</td>\n",
       "      <td>2.0</td>\n",
       "      <td>0.0</td>\n",
       "      <td>0.0</td>\n",
       "      <td>426.0</td>\n",
       "      <td>0.0</td>\n",
       "      <td>0.0</td>\n",
       "      <td>0.0</td>\n",
       "      <td>0.0</td>\n",
       "    </tr>\n",
       "    <tr>\n",
       "      <th>3</th>\n",
       "      <td>1989</td>\n",
       "      <td>60.0000</td>\n",
       "      <td>8520</td>\n",
       "      <td>5</td>\n",
       "      <td>6</td>\n",
       "      <td>1923</td>\n",
       "      <td>2006</td>\n",
       "      <td>0.0</td>\n",
       "      <td>0</td>\n",
       "      <td>0</td>\n",
       "      <td>...</td>\n",
       "      <td>960.0</td>\n",
       "      <td>0.0</td>\n",
       "      <td>0.0</td>\n",
       "      <td>2.0</td>\n",
       "      <td>0.0</td>\n",
       "      <td>0.0</td>\n",
       "      <td>480.0</td>\n",
       "      <td>0.0</td>\n",
       "      <td>0.0</td>\n",
       "      <td>0.0</td>\n",
       "    </tr>\n",
       "    <tr>\n",
       "      <th>4</th>\n",
       "      <td>625</td>\n",
       "      <td>69.0552</td>\n",
       "      <td>9500</td>\n",
       "      <td>6</td>\n",
       "      <td>5</td>\n",
       "      <td>1963</td>\n",
       "      <td>1963</td>\n",
       "      <td>247.0</td>\n",
       "      <td>609</td>\n",
       "      <td>0</td>\n",
       "      <td>...</td>\n",
       "      <td>1028.0</td>\n",
       "      <td>2.0</td>\n",
       "      <td>0.0</td>\n",
       "      <td>2.0</td>\n",
       "      <td>514.0</td>\n",
       "      <td>0.0</td>\n",
       "      <td>514.0</td>\n",
       "      <td>0.0</td>\n",
       "      <td>1.0</td>\n",
       "      <td>0.0</td>\n",
       "    </tr>\n",
       "  </tbody>\n",
       "</table>\n",
       "<p>5 rows × 365 columns</p>\n",
       "</div>"
      ],
      "text/plain": [
       "     id  lot_frontage  lot_area  overall_qual  overall_cond  year_built  \\\n",
       "0  2658       69.0000      9142             6             8        1910   \n",
       "1  2718       69.0552      9662             5             4        1977   \n",
       "2  2414       58.0000     17104             7             5        2006   \n",
       "3  1989       60.0000      8520             5             6        1923   \n",
       "4   625       69.0552      9500             6             5        1963   \n",
       "\n",
       "   year_remod/add  mas_vnr_area  bsmtfin_sf_1  bsmtfin_sf_2  ...  \\\n",
       "0            1950           0.0             0             0  ...   \n",
       "1            1977           0.0             0             0  ...   \n",
       "2            2006           0.0           554             0  ...   \n",
       "3            2006           0.0             0             0  ...   \n",
       "4            1963         247.0           609             0  ...   \n",
       "\n",
       "   garage_cars garage_area  garage_cars exter_qual_TA  \\\n",
       "0                    440.0                        1.0   \n",
       "1                   1160.0                        2.0   \n",
       "2                    852.0                        0.0   \n",
       "3                    960.0                        0.0   \n",
       "4                   1028.0                        2.0   \n",
       "\n",
       "   garage_cars foundation_PConc  garage_cars kitchen_qual_TA  \\\n",
       "0                           0.0                          0.0   \n",
       "1                           0.0                          2.0   \n",
       "2                           2.0                          0.0   \n",
       "3                           0.0                          2.0   \n",
       "4                           0.0                          2.0   \n",
       "\n",
       "   garage_area exter_qual_TA  garage_area foundation_PConc  \\\n",
       "0                      440.0                           0.0   \n",
       "1                      580.0                           0.0   \n",
       "2                        0.0                         426.0   \n",
       "3                        0.0                           0.0   \n",
       "4                      514.0                           0.0   \n",
       "\n",
       "   garage_area kitchen_qual_TA  exter_qual_TA foundation_PConc  \\\n",
       "0                          0.0                             0.0   \n",
       "1                        580.0                             0.0   \n",
       "2                          0.0                             0.0   \n",
       "3                        480.0                             0.0   \n",
       "4                        514.0                             0.0   \n",
       "\n",
       "   exter_qual_TA kitchen_qual_TA  foundation_PConc kitchen_qual_TA  \n",
       "0                            0.0                               0.0  \n",
       "1                            1.0                               0.0  \n",
       "2                            0.0                               0.0  \n",
       "3                            0.0                               0.0  \n",
       "4                            1.0                               0.0  \n",
       "\n",
       "[5 rows x 365 columns]"
      ]
     },
     "execution_count": 3,
     "metadata": {},
     "output_type": "execute_result"
    }
   ],
   "source": [
    "test = pd.read_csv('../datasets/test_cleaned_preprocessed.csv')\n",
    "test.head()"
   ]
  },
  {
   "cell_type": "markdown",
   "metadata": {},
   "source": [
    "## 0:Baseline model, saleprice_mean"
   ]
  },
  {
   "cell_type": "code",
   "execution_count": 4,
   "metadata": {
    "scrolled": true
   },
   "outputs": [
    {
     "data": {
      "text/html": [
       "<div>\n",
       "<style scoped>\n",
       "    .dataframe tbody tr th:only-of-type {\n",
       "        vertical-align: middle;\n",
       "    }\n",
       "\n",
       "    .dataframe tbody tr th {\n",
       "        vertical-align: top;\n",
       "    }\n",
       "\n",
       "    .dataframe thead th {\n",
       "        text-align: right;\n",
       "    }\n",
       "</style>\n",
       "<table border=\"1\" class=\"dataframe\">\n",
       "  <thead>\n",
       "    <tr style=\"text-align: right;\">\n",
       "      <th></th>\n",
       "      <th>Id</th>\n",
       "      <th>SalePrice</th>\n",
       "    </tr>\n",
       "  </thead>\n",
       "  <tbody>\n",
       "    <tr>\n",
       "      <th>0</th>\n",
       "      <td>2658</td>\n",
       "      <td>181358.728117</td>\n",
       "    </tr>\n",
       "    <tr>\n",
       "      <th>1</th>\n",
       "      <td>2718</td>\n",
       "      <td>181358.728117</td>\n",
       "    </tr>\n",
       "    <tr>\n",
       "      <th>2</th>\n",
       "      <td>2414</td>\n",
       "      <td>181358.728117</td>\n",
       "    </tr>\n",
       "    <tr>\n",
       "      <th>3</th>\n",
       "      <td>1989</td>\n",
       "      <td>181358.728117</td>\n",
       "    </tr>\n",
       "    <tr>\n",
       "      <th>4</th>\n",
       "      <td>625</td>\n",
       "      <td>181358.728117</td>\n",
       "    </tr>\n",
       "  </tbody>\n",
       "</table>\n",
       "</div>"
      ],
      "text/plain": [
       "     Id      SalePrice\n",
       "0  2658  181358.728117\n",
       "1  2718  181358.728117\n",
       "2  2414  181358.728117\n",
       "3  1989  181358.728117\n",
       "4   625  181358.728117"
      ]
     },
     "execution_count": 4,
     "metadata": {},
     "output_type": "execute_result"
    }
   ],
   "source": [
    "#create submit dataframe, get ID from test and assign Saleprice as mean\n",
    "submit = test[['id']].rename(columns={'id':'Id'})\n",
    "submit['SalePrice'] = train['saleprice'].mean()\n",
    "submit.head()"
   ]
  },
  {
   "cell_type": "code",
   "execution_count": 5,
   "metadata": {},
   "outputs": [],
   "source": [
    "#write submit to csv\n",
    "submit.to_csv('../Model/0_baseline_model.csv',index=False)"
   ]
  },
  {
   "cell_type": "markdown",
   "metadata": {},
   "source": [
    "## 1: All features model"
   ]
  },
  {
   "cell_type": "code",
   "execution_count": 6,
   "metadata": {},
   "outputs": [],
   "source": [
    "## \n",
    "features1 = [col for col in train.columns if col!='saleprice']\n",
    "X = train[features1]\n",
    "y = train['saleprice']\n"
   ]
  },
  {
   "cell_type": "code",
   "execution_count": 7,
   "metadata": {},
   "outputs": [],
   "source": [
    "#standardize\n",
    "ss = StandardScaler()\n",
    "ss.fit(X)\n",
    "X_scale = ss.transform(X)"
   ]
  },
  {
   "cell_type": "code",
   "execution_count": 8,
   "metadata": {},
   "outputs": [
    {
     "data": {
      "text/plain": [
       "0.9568021339524264"
      ]
     },
     "execution_count": 8,
     "metadata": {},
     "output_type": "execute_result"
    }
   ],
   "source": [
    "#Generate LinearRegression Model\n",
    "lr = LinearRegression()\n",
    "lr.fit(X_scale,y)\n",
    "lr.score(X_scale,y)"
   ]
  },
  {
   "cell_type": "code",
   "execution_count": 9,
   "metadata": {},
   "outputs": [
    {
     "data": {
      "text/plain": [
       "16474.905601558727"
      ]
     },
     "execution_count": 9,
     "metadata": {},
     "output_type": "execute_result"
    }
   ],
   "source": [
    "np.sqrt(metrics.mean_squared_error(y,lr.predict(X_scale)))"
   ]
  },
  {
   "cell_type": "code",
   "execution_count": 10,
   "metadata": {},
   "outputs": [
    {
     "data": {
      "text/plain": [
       "-1.0802777287766038e+24"
      ]
     },
     "execution_count": 10,
     "metadata": {},
     "output_type": "execute_result"
    }
   ],
   "source": [
    "lr_cv_score = cross_val_score(lr,X_scale,y).mean() #very bad performance on unseen data\n",
    "lr_cv_score"
   ]
  },
  {
   "cell_type": "code",
   "execution_count": 11,
   "metadata": {},
   "outputs": [
    {
     "data": {
      "text/plain": [
       "5.2644784812583176e+16"
      ]
     },
     "execution_count": 11,
     "metadata": {},
     "output_type": "execute_result"
    }
   ],
   "source": [
    "lr_cv_rmse = np.abs(cross_val_score(lr,X_scale,y,scoring='neg_root_mean_squared_error')).mean()\n",
    "lr_cv_rmse"
   ]
  },
  {
   "cell_type": "markdown",
   "metadata": {},
   "source": [
    "This model is over fit. Now try to use Ridge,Lasso,ElasticNet"
   ]
  },
  {
   "cell_type": "markdown",
   "metadata": {},
   "source": [
    "**Ridge**"
   ]
  },
  {
   "cell_type": "code",
   "execution_count": 12,
   "metadata": {},
   "outputs": [
    {
     "data": {
      "text/plain": [
       "0.9527469404136027"
      ]
     },
     "execution_count": 12,
     "metadata": {},
     "output_type": "execute_result"
    }
   ],
   "source": [
    "ridgecv = RidgeCV(alphas=np.logspace(0,5,200))\n",
    "ridgecv.fit(X_scale,y)\n",
    "ridgecv.score(X_scale,y)"
   ]
  },
  {
   "cell_type": "code",
   "execution_count": 13,
   "metadata": {},
   "outputs": [
    {
     "data": {
      "text/plain": [
       "136.67163564620074"
      ]
     },
     "execution_count": 13,
     "metadata": {},
     "output_type": "execute_result"
    }
   ],
   "source": [
    "ridgecv.alpha_"
   ]
  },
  {
   "cell_type": "code",
   "execution_count": 14,
   "metadata": {},
   "outputs": [
    {
     "data": {
      "text/plain": [
       "0.9527469404136014"
      ]
     },
     "execution_count": 14,
     "metadata": {},
     "output_type": "execute_result"
    }
   ],
   "source": [
    "ridge = Ridge(alpha=ridgecv.alpha_)\n",
    "ridge.fit(X_scale,y)\n",
    "ridge.score(X_scale,y)"
   ]
  },
  {
   "cell_type": "code",
   "execution_count": 15,
   "metadata": {},
   "outputs": [
    {
     "data": {
      "text/plain": [
       "0.9306425358684954"
      ]
     },
     "execution_count": 15,
     "metadata": {},
     "output_type": "execute_result"
    }
   ],
   "source": [
    "ridge_cv_score = cross_val_score(ridge,X_scale,y).mean() #much better performance\n",
    "ridge_cv_score"
   ]
  },
  {
   "cell_type": "code",
   "execution_count": 16,
   "metadata": {
    "scrolled": true
   },
   "outputs": [
    {
     "data": {
      "text/plain": [
       "20784.317912777904"
      ]
     },
     "execution_count": 16,
     "metadata": {},
     "output_type": "execute_result"
    }
   ],
   "source": [
    "ridge_cv_rmse = np.abs(cross_val_score(ridge,X_scale,y,scoring='neg_root_mean_squared_error')).mean()\n",
    "ridge_cv_rmse"
   ]
  },
  {
   "cell_type": "markdown",
   "metadata": {},
   "source": [
    "**Lasso**"
   ]
  },
  {
   "cell_type": "code",
   "execution_count": 17,
   "metadata": {},
   "outputs": [
    {
     "data": {
      "text/plain": [
       "0.9519326195536462"
      ]
     },
     "execution_count": 17,
     "metadata": {},
     "output_type": "execute_result"
    }
   ],
   "source": [
    "lassocv = LassoCV(n_alphas=200)\n",
    "lassocv.fit(X_scale,y)\n",
    "lassocv.score(X_scale,y)"
   ]
  },
  {
   "cell_type": "code",
   "execution_count": 18,
   "metadata": {},
   "outputs": [
    {
     "data": {
      "text/plain": [
       "182.9101588799186"
      ]
     },
     "execution_count": 18,
     "metadata": {},
     "output_type": "execute_result"
    }
   ],
   "source": [
    "lassocv_optimal_alpha = lassocv.alpha_\n",
    "lassocv_optimal_alpha"
   ]
  },
  {
   "cell_type": "code",
   "execution_count": 19,
   "metadata": {},
   "outputs": [
    {
     "data": {
      "text/plain": [
       "0.9519326195536462"
      ]
     },
     "execution_count": 19,
     "metadata": {},
     "output_type": "execute_result"
    }
   ],
   "source": [
    "lasso = Lasso(alpha=lassocv_optimal_alpha)\n",
    "lasso.fit(X_scale,y)\n",
    "lasso.score(X_scale,y)"
   ]
  },
  {
   "cell_type": "code",
   "execution_count": 20,
   "metadata": {
    "scrolled": true
   },
   "outputs": [
    {
     "data": {
      "text/plain": [
       "0.9330282369758436"
      ]
     },
     "execution_count": 20,
     "metadata": {},
     "output_type": "execute_result"
    }
   ],
   "source": [
    "lasso_cv_score = cross_val_score(lasso,X_scale,y).mean()\n",
    "lasso_cv_score"
   ]
  },
  {
   "cell_type": "code",
   "execution_count": 21,
   "metadata": {},
   "outputs": [
    {
     "data": {
      "text/plain": [
       "20411.074262132075"
      ]
     },
     "execution_count": 21,
     "metadata": {},
     "output_type": "execute_result"
    }
   ],
   "source": [
    "lasso_cv_rmse = np.abs(cross_val_score(lasso,X_scale,y,scoring='neg_root_mean_squared_error')).mean()\n",
    "lasso_cv_rmse"
   ]
  },
  {
   "cell_type": "markdown",
   "metadata": {},
   "source": [
    "**ElasticNet**"
   ]
  },
  {
   "cell_type": "code",
   "execution_count": 22,
   "metadata": {},
   "outputs": [
    {
     "data": {
      "text/plain": [
       "0.951916131871083"
      ]
     },
     "execution_count": 22,
     "metadata": {},
     "output_type": "execute_result"
    }
   ],
   "source": [
    "encv = ElasticNetCV(n_alphas=100,l1_ratio=np.linspace(0.1,1,20))\n",
    "encv.fit(X_scale,y)\n",
    "encv.score(X_scale,y)"
   ]
  },
  {
   "cell_type": "code",
   "execution_count": 23,
   "metadata": {},
   "outputs": [
    {
     "data": {
      "text/plain": [
       "183.81023845540972"
      ]
     },
     "execution_count": 23,
     "metadata": {},
     "output_type": "execute_result"
    }
   ],
   "source": [
    "encv_optimal_alpha = encv.alpha_\n",
    "encv_optimal_alpha"
   ]
  },
  {
   "cell_type": "code",
   "execution_count": 24,
   "metadata": {},
   "outputs": [
    {
     "data": {
      "text/plain": [
       "1.0"
      ]
     },
     "execution_count": 24,
     "metadata": {},
     "output_type": "execute_result"
    }
   ],
   "source": [
    "encv_optimal_l1_ratio = encv.l1_ratio_ #same as lasso\n",
    "encv_optimal_l1_ratio"
   ]
  },
  {
   "cell_type": "code",
   "execution_count": 25,
   "metadata": {},
   "outputs": [
    {
     "data": {
      "text/plain": [
       "0.951916131871083"
      ]
     },
     "execution_count": 25,
     "metadata": {},
     "output_type": "execute_result"
    }
   ],
   "source": [
    "en = ElasticNet(alpha=encv_optimal_alpha,l1_ratio=encv_optimal_l1_ratio)\n",
    "en.fit(X_scale,y)\n",
    "en.score(X_scale,y)"
   ]
  },
  {
   "cell_type": "code",
   "execution_count": 26,
   "metadata": {},
   "outputs": [
    {
     "data": {
      "text/plain": [
       "0.9330300778469194"
      ]
     },
     "execution_count": 26,
     "metadata": {},
     "output_type": "execute_result"
    }
   ],
   "source": [
    "elasticnet_cv_score = cross_val_score(en,X_scale,y).mean()\n",
    "elasticnet_cv_score"
   ]
  },
  {
   "cell_type": "code",
   "execution_count": 27,
   "metadata": {},
   "outputs": [
    {
     "data": {
      "text/plain": [
       "20410.86462984643"
      ]
     },
     "execution_count": 27,
     "metadata": {},
     "output_type": "execute_result"
    }
   ],
   "source": [
    "elasticnet_cv_rmse = np.abs(cross_val_score(en,X_scale,y,scoring='neg_root_mean_squared_error')).mean()\n",
    "elasticnet_cv_rmse"
   ]
  },
  {
   "cell_type": "markdown",
   "metadata": {},
   "source": [
    "### Report Results"
   ]
  },
  {
   "cell_type": "code",
   "execution_count": 28,
   "metadata": {},
   "outputs": [
    {
     "name": "stdout",
     "output_type": "stream",
     "text": [
      "     \n",
      "     LinearRegression\n",
      "     Estimated R2 Score on unseen data: -1.0802777287766039e+24\n",
      "     Estimated RMSE on unseen data: 5.2644784812583176e+16\n",
      "          \n",
      "     Ridge\n",
      "     Estimated R2 Score on unseen data: 0.9306\n",
      "     Estimated RMSE on unseen data: 20784.3179\n",
      "\n",
      "     Lasso\n",
      "     Estimated R2 Score on unseen data: 0.933\n",
      "     Estimated RMSE on unseen data: 20411.0743   \n",
      "\n",
      "     ElasticNet\n",
      "     Opimal l1 ration: 1.0\n",
      "     Estimated R2 Score on unseen data: 0.933\n",
      "     Estimated RMSE on unseen data: 20410.8646         \n",
      "        \n"
     ]
    }
   ],
   "source": [
    "print(f\"\"\"     \n",
    "     LinearRegression\n",
    "     Estimated R2 Score on unseen data: {round(lr_cv_score,4)}\n",
    "     Estimated RMSE on unseen data: {round(lr_cv_rmse,4)}\n",
    "          \n",
    "     Ridge\n",
    "     Estimated R2 Score on unseen data: {round(ridge_cv_score,4)}\n",
    "     Estimated RMSE on unseen data: {round(ridge_cv_rmse,4)}\n",
    "\n",
    "     Lasso\n",
    "     Estimated R2 Score on unseen data: {round(lasso_cv_score,4)}\n",
    "     Estimated RMSE on unseen data: {round(lasso_cv_rmse,4)}   \n",
    "\n",
    "     ElasticNet\n",
    "     Opimal l1 ration: {encv_optimal_l1_ratio}\n",
    "     Estimated R2 Score on unseen data: {round(elasticnet_cv_score,4)}\n",
    "     Estimated RMSE on unseen data: {round(elasticnet_cv_rmse,4)}         \n",
    "        \"\"\")"
   ]
  },
  {
   "cell_type": "markdown",
   "metadata": {},
   "source": [
    "## Apply to test data"
   ]
  },
  {
   "cell_type": "code",
   "execution_count": 29,
   "metadata": {},
   "outputs": [],
   "source": [
    "#select subset of test data\n",
    "X_test = test[features1]\n",
    "#standardize\n",
    "X_test_scale = ss.transform(X_test)\n",
    "#predict and assign to saleprice column\n",
    "submit['SalePrice'] = en.predict(X_test_scale)"
   ]
  },
  {
   "cell_type": "code",
   "execution_count": 30,
   "metadata": {},
   "outputs": [
    {
     "data": {
      "text/html": [
       "<div>\n",
       "<style scoped>\n",
       "    .dataframe tbody tr th:only-of-type {\n",
       "        vertical-align: middle;\n",
       "    }\n",
       "\n",
       "    .dataframe tbody tr th {\n",
       "        vertical-align: top;\n",
       "    }\n",
       "\n",
       "    .dataframe thead th {\n",
       "        text-align: right;\n",
       "    }\n",
       "</style>\n",
       "<table border=\"1\" class=\"dataframe\">\n",
       "  <thead>\n",
       "    <tr style=\"text-align: right;\">\n",
       "      <th></th>\n",
       "      <th>Id</th>\n",
       "      <th>SalePrice</th>\n",
       "    </tr>\n",
       "  </thead>\n",
       "  <tbody>\n",
       "    <tr>\n",
       "      <th>0</th>\n",
       "      <td>2658</td>\n",
       "      <td>134869.973162</td>\n",
       "    </tr>\n",
       "    <tr>\n",
       "      <th>1</th>\n",
       "      <td>2718</td>\n",
       "      <td>149719.090890</td>\n",
       "    </tr>\n",
       "    <tr>\n",
       "      <th>2</th>\n",
       "      <td>2414</td>\n",
       "      <td>212586.726413</td>\n",
       "    </tr>\n",
       "    <tr>\n",
       "      <th>3</th>\n",
       "      <td>1989</td>\n",
       "      <td>100628.404473</td>\n",
       "    </tr>\n",
       "    <tr>\n",
       "      <th>4</th>\n",
       "      <td>625</td>\n",
       "      <td>169036.056921</td>\n",
       "    </tr>\n",
       "  </tbody>\n",
       "</table>\n",
       "</div>"
      ],
      "text/plain": [
       "     Id      SalePrice\n",
       "0  2658  134869.973162\n",
       "1  2718  149719.090890\n",
       "2  2414  212586.726413\n",
       "3  1989  100628.404473\n",
       "4   625  169036.056921"
      ]
     },
     "execution_count": 30,
     "metadata": {},
     "output_type": "execute_result"
    }
   ],
   "source": [
    "submit.head()"
   ]
  },
  {
   "cell_type": "code",
   "execution_count": 31,
   "metadata": {},
   "outputs": [],
   "source": [
    "#Print csv file\n",
    "submit.to_csv('../Model/1_all_features_elasticnet.csv',index=False)"
   ]
  },
  {
   "cell_type": "markdown",
   "metadata": {},
   "source": [
    "## Write function for all model and report"
   ]
  },
  {
   "cell_type": "code",
   "execution_count": 32,
   "metadata": {},
   "outputs": [],
   "source": [
    "def all_model_fit_report(feature):\n",
    "    '''When users input the feature list, instantiate the following model\n",
    "    \n",
    "    1.LinearRegression \n",
    "    2.RidgeCV\n",
    "    3.Ridge using alpha_ from RidgeCV\n",
    "    4.LassoCV\n",
    "    5.Lasso using alpha_ from LassoCV\n",
    "    6.ElasticNetCV\n",
    "    7.ElasticNet using alpha_ and l1_ratio_ from Elasticnet CV\n",
    "    \n",
    "    and print report and return name of best model based on RMSE of cross_val_score \n",
    "    '''\n",
    "    # Create X,y\n",
    "    X = train[feature]\n",
    "    y = train['saleprice']\n",
    "    # Standardize\n",
    "    ss = StandardScaler()\n",
    "    ss.fit(X)\n",
    "    X_scale = ss.transform(X)\n",
    "    \n",
    "    # LinearRegression\n",
    "    lr = LinearRegression()\n",
    "    lr.fit(X_scale,y)\n",
    "    lr_cv_score = cross_val_score(lr,X_scale,y).mean()\n",
    "    lr_cv_rmse = np.abs(cross_val_score(lr,X_scale,y,scoring='neg_root_mean_squared_error')).mean()\n",
    "    \n",
    "    # RidgeCV\n",
    "    ridgecv = RidgeCV(alphas=np.logspace(0,5,200))\n",
    "    ridgecv.fit(X_scale,y)\n",
    "    # Ridge\n",
    "    ridge = Ridge(alpha=ridgecv.alpha_)\n",
    "    ridge.fit(X_scale,y)\n",
    "    ridge_cv_score = cross_val_score(ridge,X_scale,y).mean()\n",
    "    ridge_cv_rmse = np.abs(cross_val_score(ridge,X_scale,y,scoring='neg_root_mean_squared_error')).mean()\n",
    "    \n",
    "    #LassoCV\n",
    "    lassocv = LassoCV(n_alphas=200)\n",
    "    lassocv.fit(X_scale,y)\n",
    "    #Lasso\n",
    "    lasso = Lasso(alpha=lassocv.alpha_)\n",
    "    lasso.fit(X_scale,y)\n",
    "    lasso_cv_score = cross_val_score(lasso,X_scale,y).mean()\n",
    "    lasso_cv_rmse = np.abs(cross_val_score(lasso,X_scale,y,scoring='neg_root_mean_squared_error')).mean()\n",
    "    \n",
    "    #ElasticNetCV\n",
    "    encv = ElasticNetCV(n_alphas=100,l1_ratio=np.linspace(0.1,1,20))\n",
    "    encv.fit(X_scale,y)\n",
    "    #ElasticNet\n",
    "    en = ElasticNet(alpha=encv.alpha_,l1_ratio=encv.l1_ratio_)\n",
    "    en.fit(X_scale,y)\n",
    "    elasticnet_cv_score = cross_val_score(en,X_scale,y).mean()\n",
    "    elasticnet_cv_rmse = np.abs(cross_val_score(en,X_scale,y,scoring='neg_root_mean_squared_error')).mean()\n",
    "    \n",
    "    #Print Result\n",
    "    print(f\"\"\"     \n",
    "         LinearRegression\n",
    "         Estimated R2 Score on unseen data: {round(lr_cv_score,4)}\n",
    "         Estimated RMSE on unseen data: {round(lr_cv_rmse,4)}\n",
    "\n",
    "         Ridge\n",
    "         Estimated R2 Score on unseen data: {round(ridge_cv_score,4)}\n",
    "         Estimated RMSE on unseen data: {round(ridge_cv_rmse,4)}\n",
    "\n",
    "         Lasso\n",
    "         Estimated R2 Score on unseen data: {round(lasso_cv_score,4)}\n",
    "         Estimated RMSE on unseen data: {round(lasso_cv_rmse,4)}   \n",
    "\n",
    "         ElasticNet\n",
    "         Opimal l1 ration: {encv_optimal_l1_ratio}\n",
    "         Estimated R2 Score on unseen data: {round(elasticnet_cv_score,4)}\n",
    "         Estimated RMSE on unseen data: {round(elasticnet_cv_rmse,4)}         \n",
    "        \"\"\")\n",
    "    \n",
    "    all_model = { \"Model\":['LinearRegression','Ridge','Lasso','ElasticNet'],\n",
    "                 \"cv_rmse\":[lr_cv_rmse,ridge_cv_rmse,lasso_cv_rmse,elasticnet_cv_rmse],\n",
    "                 \"cv_score\" :[lr_cv_score,ridge_cv_score,lasso_cv_score,elasticnet_cv_score]\n",
    "                }\n",
    "    pd.options.display.float_format = '{:.4f}'.format\n",
    "    df = pd.DataFrame(all_model)\n",
    "    best_model = df.sort_values('cv_rmse')['Model'].reset_index(drop=True)[0]\n",
    "    return best_model"
   ]
  },
  {
   "cell_type": "code",
   "execution_count": 33,
   "metadata": {},
   "outputs": [
    {
     "name": "stdout",
     "output_type": "stream",
     "text": [
      "     \n",
      "         LinearRegression\n",
      "         Estimated R2 Score on unseen data: -1.0802777287766039e+24\n",
      "         Estimated RMSE on unseen data: 5.2644784812583176e+16\n",
      "\n",
      "         Ridge\n",
      "         Estimated R2 Score on unseen data: 0.9306\n",
      "         Estimated RMSE on unseen data: 20784.3179\n",
      "\n",
      "         Lasso\n",
      "         Estimated R2 Score on unseen data: 0.933\n",
      "         Estimated RMSE on unseen data: 20411.0743   \n",
      "\n",
      "         ElasticNet\n",
      "         Opimal l1 ration: 1.0\n",
      "         Estimated R2 Score on unseen data: 0.933\n",
      "         Estimated RMSE on unseen data: 20410.8646         \n",
      "        \n"
     ]
    },
    {
     "data": {
      "text/plain": [
       "'ElasticNet'"
      ]
     },
     "execution_count": 33,
     "metadata": {},
     "output_type": "execute_result"
    }
   ],
   "source": [
    "#test on function\n",
    "all_model_fit_report(features1)"
   ]
  },
  {
   "cell_type": "markdown",
   "metadata": {},
   "source": [
    "## 2: All numeric model"
   ]
  },
  {
   "cell_type": "code",
   "execution_count": 36,
   "metadata": {},
   "outputs": [
    {
     "data": {
      "text/plain": [
       "Index(['ms_subclass', 'ms_zoning', 'lot_frontage', 'lot_area', 'street',\n",
       "       'alley', 'lot_shape', 'land_contour', 'utilities', 'lot_config',\n",
       "       'land_slope', 'neighborhood', 'condition_1', 'condition_2', 'bldg_type',\n",
       "       'house_style', 'overall_qual', 'overall_cond', 'year_built',\n",
       "       'year_remod/add', 'roof_style', 'roof_matl', 'exterior_1st',\n",
       "       'exterior_2nd', 'mas_vnr_type', 'mas_vnr_area', 'exter_qual',\n",
       "       'exter_cond', 'foundation', 'bsmt_qual', 'bsmt_cond', 'bsmt_exposure',\n",
       "       'bsmtfin_type_1', 'bsmtfin_sf_1', 'bsmtfin_type_2', 'bsmtfin_sf_2',\n",
       "       'bsmt_unf_sf', 'total_bsmt_sf', 'heating', 'heating_qc', 'central_air',\n",
       "       'electrical', '1st_flr_sf', '2nd_flr_sf', 'low_qual_fin_sf',\n",
       "       'gr_liv_area', 'bsmt_full_bath', 'bsmt_half_bath', 'full_bath',\n",
       "       'half_bath', 'bedroom_abvgr', 'kitchen_abvgr', 'kitchen_qual',\n",
       "       'totrms_abvgrd', 'functional', 'fireplaces', 'fireplace_qu',\n",
       "       'garage_type', 'garage_finish', 'garage_cars', 'garage_area',\n",
       "       'garage_qual', 'garage_cond', 'paved_drive', 'wood_deck_sf',\n",
       "       'open_porch_sf', 'enclosed_porch', '3ssn_porch', 'screen_porch',\n",
       "       'pool_area', 'pool_qc', 'fence', 'misc_feature', 'misc_val', 'mo_sold',\n",
       "       'yr_sold', 'sale_type', 'saleprice', 'age_garage'],\n",
       "      dtype='object')"
      ]
     },
     "execution_count": 36,
     "metadata": {},
     "output_type": "execute_result"
    }
   ],
   "source": [
    "## import cleaned data to get original columns name\n",
    "data = pd.read_csv('../datasets/train_cleaned.csv')\n",
    "data.columns"
   ]
  },
  {
   "cell_type": "code",
   "execution_count": 51,
   "metadata": {},
   "outputs": [],
   "source": [
    "categorical_columns = [col for col in data.dtypes[data.dtypes == 'object'].index]\n",
    "categorical_columns.append('ms_subclass')"
   ]
  },
  {
   "cell_type": "code",
   "execution_count": 52,
   "metadata": {},
   "outputs": [
    {
     "data": {
      "text/plain": [
       "['ms_zoning',\n",
       " 'street',\n",
       " 'alley',\n",
       " 'lot_shape',\n",
       " 'land_contour',\n",
       " 'utilities',\n",
       " 'lot_config',\n",
       " 'land_slope',\n",
       " 'neighborhood',\n",
       " 'condition_1',\n",
       " 'condition_2',\n",
       " 'bldg_type',\n",
       " 'house_style',\n",
       " 'roof_style',\n",
       " 'roof_matl',\n",
       " 'exterior_1st',\n",
       " 'exterior_2nd',\n",
       " 'mas_vnr_type',\n",
       " 'exter_qual',\n",
       " 'exter_cond',\n",
       " 'foundation',\n",
       " 'bsmt_qual',\n",
       " 'bsmt_cond',\n",
       " 'bsmt_exposure',\n",
       " 'bsmtfin_type_1',\n",
       " 'bsmtfin_type_2',\n",
       " 'heating',\n",
       " 'heating_qc',\n",
       " 'central_air',\n",
       " 'electrical',\n",
       " 'kitchen_qual',\n",
       " 'functional',\n",
       " 'fireplace_qu',\n",
       " 'garage_type',\n",
       " 'garage_finish',\n",
       " 'garage_qual',\n",
       " 'garage_cond',\n",
       " 'paved_drive',\n",
       " 'pool_qc',\n",
       " 'fence',\n",
       " 'misc_feature',\n",
       " 'sale_type',\n",
       " 'ms_subclass']"
      ]
     },
     "execution_count": 52,
     "metadata": {},
     "output_type": "execute_result"
    }
   ],
   "source": [
    "categorical_columns"
   ]
  },
  {
   "cell_type": "code",
   "execution_count": 55,
   "metadata": {},
   "outputs": [
    {
     "data": {
      "text/plain": [
       "['lot_frontage',\n",
       " 'lot_area',\n",
       " 'overall_qual',\n",
       " 'overall_cond',\n",
       " 'year_built',\n",
       " 'year_remod/add',\n",
       " 'mas_vnr_area',\n",
       " 'bsmtfin_sf_1',\n",
       " 'bsmtfin_sf_2',\n",
       " 'bsmt_unf_sf',\n",
       " 'total_bsmt_sf',\n",
       " '1st_flr_sf',\n",
       " '2nd_flr_sf',\n",
       " 'low_qual_fin_sf',\n",
       " 'gr_liv_area',\n",
       " 'bsmt_full_bath',\n",
       " 'bsmt_half_bath',\n",
       " 'full_bath',\n",
       " 'half_bath',\n",
       " 'bedroom_abvgr',\n",
       " 'kitchen_abvgr',\n",
       " 'totrms_abvgrd',\n",
       " 'fireplaces',\n",
       " 'garage_cars',\n",
       " 'garage_area',\n",
       " 'wood_deck_sf',\n",
       " 'open_porch_sf',\n",
       " 'enclosed_porch',\n",
       " '3ssn_porch',\n",
       " 'screen_porch',\n",
       " 'pool_area',\n",
       " 'misc_val',\n",
       " 'mo_sold',\n",
       " 'yr_sold',\n",
       " 'age_garage']"
      ]
     },
     "execution_count": 55,
     "metadata": {},
     "output_type": "execute_result"
    }
   ],
   "source": [
    "numerical_columns = [col for col in data.columns if col not in categorical_columns if col!='saleprice']\n",
    "numerical_columns"
   ]
  },
  {
   "cell_type": "code",
   "execution_count": 58,
   "metadata": {},
   "outputs": [
    {
     "name": "stdout",
     "output_type": "stream",
     "text": [
      "     \n",
      "         LinearRegression\n",
      "         Estimated R2 Score on unseen data: 0.8696\n",
      "         Estimated RMSE on unseen data: 28552.85\n",
      "\n",
      "         Ridge\n",
      "         Estimated R2 Score on unseen data: 0.8698\n",
      "         Estimated RMSE on unseen data: 28525.4217\n",
      "\n",
      "         Lasso\n",
      "         Estimated R2 Score on unseen data: 0.8703\n",
      "         Estimated RMSE on unseen data: 28472.2809   \n",
      "\n",
      "         ElasticNet\n",
      "         Opimal l1 ration: 1.0\n",
      "         Estimated R2 Score on unseen data: 0.8703\n",
      "         Estimated RMSE on unseen data: 28472.3848         \n",
      "        \n"
     ]
    },
    {
     "data": {
      "text/plain": [
       "'Lasso'"
      ]
     },
     "execution_count": 58,
     "metadata": {},
     "output_type": "execute_result"
    }
   ],
   "source": [
    "features2 = numerical_columns\n",
    "all_model_fit_report(features2)"
   ]
  },
  {
   "cell_type": "code",
   "execution_count": 59,
   "metadata": {},
   "outputs": [],
   "source": [
    "# Create X,y\n",
    "X = train[features2]\n",
    "y = train['saleprice']\n",
    "# Standardize\n",
    "ss = StandardScaler()\n",
    "ss.fit(X)\n",
    "X_scale = ss.transform(X)"
   ]
  },
  {
   "cell_type": "code",
   "execution_count": 61,
   "metadata": {},
   "outputs": [],
   "source": [
    "#LassoCV\n",
    "lassocv = LassoCV(n_alphas=200)\n",
    "lassocv.fit(X_scale,y)\n",
    "#Lasso\n",
    "lasso = Lasso(alpha=lassocv.alpha_)\n",
    "lasso.fit(X_scale,y)\n",
    "lasso_cv_score = cross_val_score(lasso,X_scale,y).mean()\n",
    "lasso_cv_rmse = np.abs(cross_val_score(lasso,X_scale,y,scoring='neg_root_mean_squared_error')).mean()"
   ]
  },
  {
   "cell_type": "code",
   "execution_count": 62,
   "metadata": {},
   "outputs": [
    {
     "data": {
      "text/plain": [
       "28472.280888586283"
      ]
     },
     "execution_count": 62,
     "metadata": {},
     "output_type": "execute_result"
    }
   ],
   "source": [
    "lasso_cv_rmse"
   ]
  },
  {
   "cell_type": "code",
   "execution_count": 64,
   "metadata": {},
   "outputs": [],
   "source": [
    "#select subset of test data\n",
    "X_test = test[features2]\n",
    "#standardize\n",
    "X_test_scale = ss.transform(X_test)\n",
    "#predict and assign to saleprice column\n",
    "submit['SalePrice'] = lasso.predict(X_test_scale)"
   ]
  },
  {
   "cell_type": "code",
   "execution_count": 65,
   "metadata": {},
   "outputs": [
    {
     "data": {
      "text/html": [
       "<div>\n",
       "<style scoped>\n",
       "    .dataframe tbody tr th:only-of-type {\n",
       "        vertical-align: middle;\n",
       "    }\n",
       "\n",
       "    .dataframe tbody tr th {\n",
       "        vertical-align: top;\n",
       "    }\n",
       "\n",
       "    .dataframe thead th {\n",
       "        text-align: right;\n",
       "    }\n",
       "</style>\n",
       "<table border=\"1\" class=\"dataframe\">\n",
       "  <thead>\n",
       "    <tr style=\"text-align: right;\">\n",
       "      <th></th>\n",
       "      <th>Id</th>\n",
       "      <th>SalePrice</th>\n",
       "    </tr>\n",
       "  </thead>\n",
       "  <tbody>\n",
       "    <tr>\n",
       "      <th>0</th>\n",
       "      <td>2658</td>\n",
       "      <td>143138.6916</td>\n",
       "    </tr>\n",
       "    <tr>\n",
       "      <th>1</th>\n",
       "      <td>2718</td>\n",
       "      <td>161881.2238</td>\n",
       "    </tr>\n",
       "    <tr>\n",
       "      <th>2</th>\n",
       "      <td>2414</td>\n",
       "      <td>206265.7776</td>\n",
       "    </tr>\n",
       "    <tr>\n",
       "      <th>3</th>\n",
       "      <td>1989</td>\n",
       "      <td>108688.5092</td>\n",
       "    </tr>\n",
       "    <tr>\n",
       "      <th>4</th>\n",
       "      <td>625</td>\n",
       "      <td>189744.0121</td>\n",
       "    </tr>\n",
       "  </tbody>\n",
       "</table>\n",
       "</div>"
      ],
      "text/plain": [
       "     Id   SalePrice\n",
       "0  2658 143138.6916\n",
       "1  2718 161881.2238\n",
       "2  2414 206265.7776\n",
       "3  1989 108688.5092\n",
       "4   625 189744.0121"
      ]
     },
     "execution_count": 65,
     "metadata": {},
     "output_type": "execute_result"
    }
   ],
   "source": [
    "submit.head()"
   ]
  },
  {
   "cell_type": "code",
   "execution_count": 66,
   "metadata": {},
   "outputs": [],
   "source": [
    "#Print csv file\n",
    "submit.to_csv('../Model/2_all_numerical_lasso.csv',index=False)"
   ]
  },
  {
   "cell_type": "markdown",
   "metadata": {},
   "source": [
    "## 3: Subset selection using forward stepwise"
   ]
  },
  {
   "cell_type": "code",
   "execution_count": 70,
   "metadata": {},
   "outputs": [
    {
     "ename": "KeyboardInterrupt",
     "evalue": "",
     "output_type": "error",
     "traceback": [
      "\u001b[1;31m---------------------------------------------------------------------------\u001b[0m",
      "\u001b[1;31mKeyboardInterrupt\u001b[0m                         Traceback (most recent call last)",
      "\u001b[1;32m<ipython-input-70-fdd84f0883a1>\u001b[0m in \u001b[0;36m<module>\u001b[1;34m\u001b[0m\n\u001b[0;32m     12\u001b[0m         \u001b[0mX_scale\u001b[0m \u001b[1;33m=\u001b[0m \u001b[0mss\u001b[0m\u001b[1;33m.\u001b[0m\u001b[0mtransform\u001b[0m\u001b[1;33m(\u001b[0m\u001b[0mX\u001b[0m\u001b[1;33m)\u001b[0m\u001b[1;33m\u001b[0m\u001b[1;33m\u001b[0m\u001b[0m\n\u001b[0;32m     13\u001b[0m         \u001b[0mlr\u001b[0m \u001b[1;33m=\u001b[0m \u001b[0mLinearRegression\u001b[0m\u001b[1;33m(\u001b[0m\u001b[1;33m)\u001b[0m\u001b[1;33m\u001b[0m\u001b[1;33m\u001b[0m\u001b[0m\n\u001b[1;32m---> 14\u001b[1;33m         \u001b[0mlr\u001b[0m\u001b[1;33m.\u001b[0m\u001b[0mfit\u001b[0m\u001b[1;33m(\u001b[0m\u001b[0mX_scale\u001b[0m\u001b[1;33m,\u001b[0m\u001b[0my\u001b[0m\u001b[1;33m)\u001b[0m\u001b[1;33m\u001b[0m\u001b[1;33m\u001b[0m\u001b[0m\n\u001b[0m\u001b[0;32m     15\u001b[0m         \u001b[0mr2_score\u001b[0m \u001b[1;33m=\u001b[0m \u001b[0mlr\u001b[0m\u001b[1;33m.\u001b[0m\u001b[0mscore\u001b[0m\u001b[1;33m(\u001b[0m\u001b[0mX_scale\u001b[0m\u001b[1;33m,\u001b[0m\u001b[0my\u001b[0m\u001b[1;33m)\u001b[0m\u001b[1;33m\u001b[0m\u001b[1;33m\u001b[0m\u001b[0m\n\u001b[0;32m     16\u001b[0m         \u001b[1;32mif\u001b[0m \u001b[0mr2_score\u001b[0m \u001b[1;33m>\u001b[0m \u001b[0mr2_score_base\u001b[0m\u001b[1;33m:\u001b[0m\u001b[1;33m\u001b[0m\u001b[1;33m\u001b[0m\u001b[0m\n",
      "\u001b[1;32m~\\anaconda3\\lib\\site-packages\\sklearn\\linear_model\\_base.py\u001b[0m in \u001b[0;36mfit\u001b[1;34m(self, X, y, sample_weight)\u001b[0m\n\u001b[0;32m    545\u001b[0m         \u001b[1;32melse\u001b[0m\u001b[1;33m:\u001b[0m\u001b[1;33m\u001b[0m\u001b[1;33m\u001b[0m\u001b[0m\n\u001b[0;32m    546\u001b[0m             \u001b[0mself\u001b[0m\u001b[1;33m.\u001b[0m\u001b[0mcoef_\u001b[0m\u001b[1;33m,\u001b[0m \u001b[0mself\u001b[0m\u001b[1;33m.\u001b[0m\u001b[0m_residues\u001b[0m\u001b[1;33m,\u001b[0m \u001b[0mself\u001b[0m\u001b[1;33m.\u001b[0m\u001b[0mrank_\u001b[0m\u001b[1;33m,\u001b[0m \u001b[0mself\u001b[0m\u001b[1;33m.\u001b[0m\u001b[0msingular_\u001b[0m \u001b[1;33m=\u001b[0m\u001b[0;31m \u001b[0m\u001b[0;31m\\\u001b[0m\u001b[1;33m\u001b[0m\u001b[1;33m\u001b[0m\u001b[0m\n\u001b[1;32m--> 547\u001b[1;33m                 \u001b[0mlinalg\u001b[0m\u001b[1;33m.\u001b[0m\u001b[0mlstsq\u001b[0m\u001b[1;33m(\u001b[0m\u001b[0mX\u001b[0m\u001b[1;33m,\u001b[0m \u001b[0my\u001b[0m\u001b[1;33m)\u001b[0m\u001b[1;33m\u001b[0m\u001b[1;33m\u001b[0m\u001b[0m\n\u001b[0m\u001b[0;32m    548\u001b[0m             \u001b[0mself\u001b[0m\u001b[1;33m.\u001b[0m\u001b[0mcoef_\u001b[0m \u001b[1;33m=\u001b[0m \u001b[0mself\u001b[0m\u001b[1;33m.\u001b[0m\u001b[0mcoef_\u001b[0m\u001b[1;33m.\u001b[0m\u001b[0mT\u001b[0m\u001b[1;33m\u001b[0m\u001b[1;33m\u001b[0m\u001b[0m\n\u001b[0;32m    549\u001b[0m \u001b[1;33m\u001b[0m\u001b[0m\n",
      "\u001b[1;32m~\\anaconda3\\lib\\site-packages\\scipy\\linalg\\basic.py\u001b[0m in \u001b[0;36mlstsq\u001b[1;34m(a, b, cond, overwrite_a, overwrite_b, check_finite, lapack_driver)\u001b[0m\n\u001b[0;32m   1211\u001b[0m             \u001b[1;32mif\u001b[0m \u001b[0mreal_data\u001b[0m\u001b[1;33m:\u001b[0m\u001b[1;33m\u001b[0m\u001b[1;33m\u001b[0m\u001b[0m\n\u001b[0;32m   1212\u001b[0m                 \u001b[0mlwork\u001b[0m\u001b[1;33m,\u001b[0m \u001b[0miwork\u001b[0m \u001b[1;33m=\u001b[0m \u001b[0m_compute_lwork\u001b[0m\u001b[1;33m(\u001b[0m\u001b[0mlapack_lwork\u001b[0m\u001b[1;33m,\u001b[0m \u001b[0mm\u001b[0m\u001b[1;33m,\u001b[0m \u001b[0mn\u001b[0m\u001b[1;33m,\u001b[0m \u001b[0mnrhs\u001b[0m\u001b[1;33m,\u001b[0m \u001b[0mcond\u001b[0m\u001b[1;33m)\u001b[0m\u001b[1;33m\u001b[0m\u001b[1;33m\u001b[0m\u001b[0m\n\u001b[1;32m-> 1213\u001b[1;33m                 x, s, rank, info = lapack_func(a1, b1, lwork,\n\u001b[0m\u001b[0;32m   1214\u001b[0m                                                iwork, cond, False, False)\n\u001b[0;32m   1215\u001b[0m             \u001b[1;32melse\u001b[0m\u001b[1;33m:\u001b[0m  \u001b[1;31m# complex data\u001b[0m\u001b[1;33m\u001b[0m\u001b[1;33m\u001b[0m\u001b[0m\n",
      "\u001b[1;31mKeyboardInterrupt\u001b[0m: "
     ]
    }
   ],
   "source": [
    "#Forward Stepwise\n",
    "result = {}  #Create empty dict  \n",
    "base_feature_list = [] #Create empty list\n",
    "for i in range(1,len(features1)):\n",
    "    r2_score_base = 0 # Set r2 score = 0 everytimes move to more features\n",
    "    for feature in [f for f in features1 if f not in base_feature_list]: # select features that not in base list\n",
    "        feature_list = [l for l in base_feature_list] #create feature_list\n",
    "        feature_list.append(feature) #append 1 features\n",
    "        X = train[feature_list]\n",
    "        y = train['saleprice']\n",
    "        ss = StandardScaler()\n",
    "        ss.fit(X)\n",
    "        X_scale = ss.transform(X)\n",
    "        lr = LinearRegression()\n",
    "        lr.fit(X_scale,y)\n",
    "        r2_score = lr.score(X_scale,y)\n",
    "        if r2_score > r2_score_base: #if adding features show higher r2 score, store that in dict\n",
    "            r2_score_base = r2_score\n",
    "            result_dict = {'feature':feature_list,'r2 CV':CV_score}\n",
    "            result[i] = result_dict\n",
    "    base_feature_list = result_dict['feature']\n",
    "\n",
    "result"
   ]
  },
  {
   "cell_type": "code",
   "execution_count": null,
   "metadata": {},
   "outputs": [],
   "source": [
    "pd.DataFrame(result).T.sort_values('r2 CV',ascending=False).head()"
   ]
  },
  {
   "cell_type": "markdown",
   "metadata": {},
   "source": [
    "## 4: Subset selection using backward elimination"
   ]
  },
  {
   "cell_type": "code",
   "execution_count": 76,
   "metadata": {},
   "outputs": [],
   "source": [
    "import statsmodels.api as sm"
   ]
  },
  {
   "cell_type": "code",
   "execution_count": 80,
   "metadata": {},
   "outputs": [],
   "source": [
    "cols = features1\n",
    "pmax = 1\n",
    "while (len(cols)>0):\n",
    "    p = []\n",
    "    X_1 = train[cols]\n",
    "    X_1 = sm.add_constant(X_1)\n",
    "    model = sm.OLS(y,X_1).fit()\n",
    "    p = pd.Series(model.pvalues.values[1:],index=cols)\n",
    "    pmax = max(p)\n",
    "    features_with_p_max = p.idxmax()\n",
    "    if(pmax>0.05):\n",
    "        cols.remove(features_with_p_max)\n",
    "    else:\n",
    "        break\n",
    "features4 = cols"
   ]
  },
  {
   "cell_type": "code",
   "execution_count": 95,
   "metadata": {},
   "outputs": [
    {
     "data": {
      "text/plain": [
       "116"
      ]
     },
     "execution_count": 95,
     "metadata": {},
     "output_type": "execute_result"
    }
   ],
   "source": [
    "len(features4)"
   ]
  },
  {
   "cell_type": "code",
   "execution_count": 82,
   "metadata": {},
   "outputs": [
    {
     "name": "stderr",
     "output_type": "stream",
     "text": [
      "C:\\Users\\Dip\\anaconda3\\lib\\site-packages\\sklearn\\linear_model\\_coordinate_descent.py:529: ConvergenceWarning: Objective did not converge. You might want to increase the number of iterations. Duality gap: 8288910959.239258, tolerance: 1284922365.6218832\n",
      "  model = cd_fast.enet_coordinate_descent(\n",
      "C:\\Users\\Dip\\anaconda3\\lib\\site-packages\\sklearn\\linear_model\\_coordinate_descent.py:529: ConvergenceWarning: Objective did not converge. You might want to increase the number of iterations. Duality gap: 8288910959.239258, tolerance: 1284922365.6218832\n",
      "  model = cd_fast.enet_coordinate_descent(\n",
      "C:\\Users\\Dip\\anaconda3\\lib\\site-packages\\sklearn\\linear_model\\_coordinate_descent.py:529: ConvergenceWarning: Objective did not converge. You might want to increase the number of iterations. Duality gap: 5167247886.1622925, tolerance: 1026129769.6003649\n",
      "  model = cd_fast.enet_coordinate_descent(\n",
      "C:\\Users\\Dip\\anaconda3\\lib\\site-packages\\sklearn\\linear_model\\_coordinate_descent.py:529: ConvergenceWarning: Objective did not converge. You might want to increase the number of iterations. Duality gap: 10085594454.407898, tolerance: 1041244616.3887366\n",
      "  model = cd_fast.enet_coordinate_descent(\n",
      "C:\\Users\\Dip\\anaconda3\\lib\\site-packages\\sklearn\\linear_model\\_coordinate_descent.py:529: ConvergenceWarning: Objective did not converge. You might want to increase the number of iterations. Duality gap: 6520209955.48407, tolerance: 1021082045.0129204\n",
      "  model = cd_fast.enet_coordinate_descent(\n",
      "C:\\Users\\Dip\\anaconda3\\lib\\site-packages\\sklearn\\linear_model\\_coordinate_descent.py:529: ConvergenceWarning: Objective did not converge. You might want to increase the number of iterations. Duality gap: 12306857463.585205, tolerance: 999199388.8676754\n",
      "  model = cd_fast.enet_coordinate_descent(\n",
      "C:\\Users\\Dip\\anaconda3\\lib\\site-packages\\sklearn\\linear_model\\_coordinate_descent.py:529: ConvergenceWarning: Objective did not converge. You might want to increase the number of iterations. Duality gap: 5167247886.1622925, tolerance: 1026129769.6003649\n",
      "  model = cd_fast.enet_coordinate_descent(\n",
      "C:\\Users\\Dip\\anaconda3\\lib\\site-packages\\sklearn\\linear_model\\_coordinate_descent.py:529: ConvergenceWarning: Objective did not converge. You might want to increase the number of iterations. Duality gap: 10085594454.407898, tolerance: 1041244616.3887366\n",
      "  model = cd_fast.enet_coordinate_descent(\n",
      "C:\\Users\\Dip\\anaconda3\\lib\\site-packages\\sklearn\\linear_model\\_coordinate_descent.py:529: ConvergenceWarning: Objective did not converge. You might want to increase the number of iterations. Duality gap: 6520209955.48407, tolerance: 1021082045.0129204\n",
      "  model = cd_fast.enet_coordinate_descent(\n",
      "C:\\Users\\Dip\\anaconda3\\lib\\site-packages\\sklearn\\linear_model\\_coordinate_descent.py:529: ConvergenceWarning: Objective did not converge. You might want to increase the number of iterations. Duality gap: 12306857463.585205, tolerance: 999199388.8676754\n",
      "  model = cd_fast.enet_coordinate_descent(\n",
      "C:\\Users\\Dip\\anaconda3\\lib\\site-packages\\sklearn\\linear_model\\_coordinate_descent.py:529: ConvergenceWarning: Objective did not converge. You might want to increase the number of iterations. Duality gap: 8288910959.239258, tolerance: 1284922365.6218832\n",
      "  model = cd_fast.enet_coordinate_descent(\n",
      "C:\\Users\\Dip\\anaconda3\\lib\\site-packages\\sklearn\\linear_model\\_coordinate_descent.py:529: ConvergenceWarning: Objective did not converge. You might want to increase the number of iterations. Duality gap: 8288910959.239258, tolerance: 1284922365.6218832\n",
      "  model = cd_fast.enet_coordinate_descent(\n",
      "C:\\Users\\Dip\\anaconda3\\lib\\site-packages\\sklearn\\linear_model\\_coordinate_descent.py:529: ConvergenceWarning: Objective did not converge. You might want to increase the number of iterations. Duality gap: 5167247886.1622925, tolerance: 1026129769.6003649\n",
      "  model = cd_fast.enet_coordinate_descent(\n",
      "C:\\Users\\Dip\\anaconda3\\lib\\site-packages\\sklearn\\linear_model\\_coordinate_descent.py:529: ConvergenceWarning: Objective did not converge. You might want to increase the number of iterations. Duality gap: 10085594454.407898, tolerance: 1041244616.3887366\n",
      "  model = cd_fast.enet_coordinate_descent(\n",
      "C:\\Users\\Dip\\anaconda3\\lib\\site-packages\\sklearn\\linear_model\\_coordinate_descent.py:529: ConvergenceWarning: Objective did not converge. You might want to increase the number of iterations. Duality gap: 6520209955.48407, tolerance: 1021082045.0129204\n",
      "  model = cd_fast.enet_coordinate_descent(\n",
      "C:\\Users\\Dip\\anaconda3\\lib\\site-packages\\sklearn\\linear_model\\_coordinate_descent.py:529: ConvergenceWarning: Objective did not converge. You might want to increase the number of iterations. Duality gap: 12306857463.585205, tolerance: 999199388.8676754\n",
      "  model = cd_fast.enet_coordinate_descent(\n",
      "C:\\Users\\Dip\\anaconda3\\lib\\site-packages\\sklearn\\linear_model\\_coordinate_descent.py:529: ConvergenceWarning: Objective did not converge. You might want to increase the number of iterations. Duality gap: 5167247886.1622925, tolerance: 1026129769.6003649\n",
      "  model = cd_fast.enet_coordinate_descent(\n",
      "C:\\Users\\Dip\\anaconda3\\lib\\site-packages\\sklearn\\linear_model\\_coordinate_descent.py:529: ConvergenceWarning: Objective did not converge. You might want to increase the number of iterations. Duality gap: 10085594454.407898, tolerance: 1041244616.3887366\n",
      "  model = cd_fast.enet_coordinate_descent(\n",
      "C:\\Users\\Dip\\anaconda3\\lib\\site-packages\\sklearn\\linear_model\\_coordinate_descent.py:529: ConvergenceWarning: Objective did not converge. You might want to increase the number of iterations. Duality gap: 6520209955.48407, tolerance: 1021082045.0129204\n",
      "  model = cd_fast.enet_coordinate_descent(\n"
     ]
    },
    {
     "name": "stdout",
     "output_type": "stream",
     "text": [
      "     \n",
      "         LinearRegression\n",
      "         Estimated R2 Score on unseen data: -1.9767161753301674e+23\n",
      "         Estimated RMSE on unseen data: 1.5787514309143082e+16\n",
      "\n",
      "         Ridge\n",
      "         Estimated R2 Score on unseen data: 0.9413\n",
      "         Estimated RMSE on unseen data: 19124.9643\n",
      "\n",
      "         Lasso\n",
      "         Estimated R2 Score on unseen data: 0.9397\n",
      "         Estimated RMSE on unseen data: 19401.5607   \n",
      "\n",
      "         ElasticNet\n",
      "         Opimal l1 ration: 1.0\n",
      "         Estimated R2 Score on unseen data: 0.9397\n",
      "         Estimated RMSE on unseen data: 19401.5607         \n",
      "        \n"
     ]
    },
    {
     "name": "stderr",
     "output_type": "stream",
     "text": [
      "C:\\Users\\Dip\\anaconda3\\lib\\site-packages\\sklearn\\linear_model\\_coordinate_descent.py:529: ConvergenceWarning: Objective did not converge. You might want to increase the number of iterations. Duality gap: 12306857463.585205, tolerance: 999199388.8676754\n",
      "  model = cd_fast.enet_coordinate_descent(\n"
     ]
    },
    {
     "data": {
      "text/plain": [
       "'Ridge'"
      ]
     },
     "execution_count": 82,
     "metadata": {},
     "output_type": "execute_result"
    }
   ],
   "source": [
    "all_model_fit_report(features4)"
   ]
  },
  {
   "cell_type": "code",
   "execution_count": 83,
   "metadata": {},
   "outputs": [],
   "source": [
    "# Create X,y\n",
    "X = train[features4]\n",
    "y = train['saleprice']\n",
    "# Standardize\n",
    "ss = StandardScaler()\n",
    "ss.fit(X)\n",
    "X_scale = ss.transform(X)"
   ]
  },
  {
   "cell_type": "code",
   "execution_count": 84,
   "metadata": {},
   "outputs": [],
   "source": [
    "# RidgeCV\n",
    "ridgecv = RidgeCV(alphas=np.logspace(0,5,200))\n",
    "ridgecv.fit(X_scale,y)\n",
    "# Ridge\n",
    "ridge = Ridge(alpha=ridgecv.alpha_)\n",
    "ridge.fit(X_scale,y)\n",
    "ridge_cv_score = cross_val_score(ridge,X_scale,y).mean()\n",
    "ridge_cv_rmse = np.abs(cross_val_score(ridge,X_scale,y,scoring='neg_root_mean_squared_error')).mean()"
   ]
  },
  {
   "cell_type": "code",
   "execution_count": 85,
   "metadata": {},
   "outputs": [
    {
     "data": {
      "text/plain": [
       "19124.9642866445"
      ]
     },
     "execution_count": 85,
     "metadata": {},
     "output_type": "execute_result"
    }
   ],
   "source": [
    "ridge_cv_rmse"
   ]
  },
  {
   "cell_type": "code",
   "execution_count": 87,
   "metadata": {},
   "outputs": [],
   "source": [
    "#select subset of test data\n",
    "X_test = test[features4]\n",
    "#standardize\n",
    "X_test_scale = ss.transform(X_test)\n",
    "#predict and assign to saleprice column\n",
    "submit['SalePrice'] = ridge.predict(X_test_scale)"
   ]
  },
  {
   "cell_type": "code",
   "execution_count": 88,
   "metadata": {
    "scrolled": true
   },
   "outputs": [
    {
     "data": {
      "text/html": [
       "<div>\n",
       "<style scoped>\n",
       "    .dataframe tbody tr th:only-of-type {\n",
       "        vertical-align: middle;\n",
       "    }\n",
       "\n",
       "    .dataframe tbody tr th {\n",
       "        vertical-align: top;\n",
       "    }\n",
       "\n",
       "    .dataframe thead th {\n",
       "        text-align: right;\n",
       "    }\n",
       "</style>\n",
       "<table border=\"1\" class=\"dataframe\">\n",
       "  <thead>\n",
       "    <tr style=\"text-align: right;\">\n",
       "      <th></th>\n",
       "      <th>Id</th>\n",
       "      <th>SalePrice</th>\n",
       "    </tr>\n",
       "  </thead>\n",
       "  <tbody>\n",
       "    <tr>\n",
       "      <th>0</th>\n",
       "      <td>2658</td>\n",
       "      <td>96232.1883</td>\n",
       "    </tr>\n",
       "    <tr>\n",
       "      <th>1</th>\n",
       "      <td>2718</td>\n",
       "      <td>146992.2354</td>\n",
       "    </tr>\n",
       "    <tr>\n",
       "      <th>2</th>\n",
       "      <td>2414</td>\n",
       "      <td>211402.6808</td>\n",
       "    </tr>\n",
       "    <tr>\n",
       "      <th>3</th>\n",
       "      <td>1989</td>\n",
       "      <td>160284.3521</td>\n",
       "    </tr>\n",
       "    <tr>\n",
       "      <th>4</th>\n",
       "      <td>625</td>\n",
       "      <td>169958.6091</td>\n",
       "    </tr>\n",
       "  </tbody>\n",
       "</table>\n",
       "</div>"
      ],
      "text/plain": [
       "     Id   SalePrice\n",
       "0  2658  96232.1883\n",
       "1  2718 146992.2354\n",
       "2  2414 211402.6808\n",
       "3  1989 160284.3521\n",
       "4   625 169958.6091"
      ]
     },
     "execution_count": 88,
     "metadata": {},
     "output_type": "execute_result"
    }
   ],
   "source": [
    "submit.head()"
   ]
  },
  {
   "cell_type": "code",
   "execution_count": 89,
   "metadata": {},
   "outputs": [],
   "source": [
    "#Print csv file\n",
    "submit.to_csv('../Model/4_backward_elimination_ridge.csv',index=False)"
   ]
  },
  {
   "cell_type": "code",
   "execution_count": 90,
   "metadata": {},
   "outputs": [
    {
     "name": "stderr",
     "output_type": "stream",
     "text": [
      "C:\\Users\\Dip\\anaconda3\\lib\\site-packages\\sklearn\\linear_model\\_coordinate_descent.py:529: ConvergenceWarning: Objective did not converge. You might want to increase the number of iterations. Duality gap: 8288910959.239258, tolerance: 1284922365.6218832\n",
      "  model = cd_fast.enet_coordinate_descent(\n",
      "C:\\Users\\Dip\\anaconda3\\lib\\site-packages\\sklearn\\linear_model\\_coordinate_descent.py:529: ConvergenceWarning: Objective did not converge. You might want to increase the number of iterations. Duality gap: 8288910959.239258, tolerance: 1284922365.6218832\n",
      "  model = cd_fast.enet_coordinate_descent(\n",
      "C:\\Users\\Dip\\anaconda3\\lib\\site-packages\\sklearn\\linear_model\\_coordinate_descent.py:529: ConvergenceWarning: Objective did not converge. You might want to increase the number of iterations. Duality gap: 5167247886.1622925, tolerance: 1026129769.6003649\n",
      "  model = cd_fast.enet_coordinate_descent(\n",
      "C:\\Users\\Dip\\anaconda3\\lib\\site-packages\\sklearn\\linear_model\\_coordinate_descent.py:529: ConvergenceWarning: Objective did not converge. You might want to increase the number of iterations. Duality gap: 10085594454.407898, tolerance: 1041244616.3887366\n",
      "  model = cd_fast.enet_coordinate_descent(\n",
      "C:\\Users\\Dip\\anaconda3\\lib\\site-packages\\sklearn\\linear_model\\_coordinate_descent.py:529: ConvergenceWarning: Objective did not converge. You might want to increase the number of iterations. Duality gap: 6520209955.48407, tolerance: 1021082045.0129204\n",
      "  model = cd_fast.enet_coordinate_descent(\n",
      "C:\\Users\\Dip\\anaconda3\\lib\\site-packages\\sklearn\\linear_model\\_coordinate_descent.py:529: ConvergenceWarning: Objective did not converge. You might want to increase the number of iterations. Duality gap: 12306857463.585205, tolerance: 999199388.8676754\n",
      "  model = cd_fast.enet_coordinate_descent(\n",
      "C:\\Users\\Dip\\anaconda3\\lib\\site-packages\\sklearn\\linear_model\\_coordinate_descent.py:529: ConvergenceWarning: Objective did not converge. You might want to increase the number of iterations. Duality gap: 5167247886.1622925, tolerance: 1026129769.6003649\n",
      "  model = cd_fast.enet_coordinate_descent(\n",
      "C:\\Users\\Dip\\anaconda3\\lib\\site-packages\\sklearn\\linear_model\\_coordinate_descent.py:529: ConvergenceWarning: Objective did not converge. You might want to increase the number of iterations. Duality gap: 10085594454.407898, tolerance: 1041244616.3887366\n",
      "  model = cd_fast.enet_coordinate_descent(\n",
      "C:\\Users\\Dip\\anaconda3\\lib\\site-packages\\sklearn\\linear_model\\_coordinate_descent.py:529: ConvergenceWarning: Objective did not converge. You might want to increase the number of iterations. Duality gap: 6520209955.48407, tolerance: 1021082045.0129204\n",
      "  model = cd_fast.enet_coordinate_descent(\n",
      "C:\\Users\\Dip\\anaconda3\\lib\\site-packages\\sklearn\\linear_model\\_coordinate_descent.py:529: ConvergenceWarning: Objective did not converge. You might want to increase the number of iterations. Duality gap: 12306857463.585205, tolerance: 999199388.8676754\n",
      "  model = cd_fast.enet_coordinate_descent(\n"
     ]
    }
   ],
   "source": [
    "#LassoCV\n",
    "lassocv = LassoCV(n_alphas=200)\n",
    "lassocv.fit(X_scale,y)\n",
    "#Lasso\n",
    "lasso = Lasso(alpha=lassocv.alpha_)\n",
    "lasso.fit(X_scale,y)\n",
    "lasso_cv_score = cross_val_score(lasso,X_scale,y).mean()\n",
    "lasso_cv_rmse = np.abs(cross_val_score(lasso,X_scale,y,scoring='neg_root_mean_squared_error')).mean()"
   ]
  },
  {
   "cell_type": "code",
   "execution_count": 91,
   "metadata": {},
   "outputs": [
    {
     "data": {
      "text/plain": [
       "19401.560682282616"
      ]
     },
     "execution_count": 91,
     "metadata": {},
     "output_type": "execute_result"
    }
   ],
   "source": [
    "lasso_cv_rmse"
   ]
  },
  {
   "cell_type": "code",
   "execution_count": 92,
   "metadata": {},
   "outputs": [],
   "source": [
    "#select subset of test data\n",
    "X_test = test[features4]\n",
    "#standardize\n",
    "X_test_scale = ss.transform(X_test)\n",
    "#predict and assign to saleprice column\n",
    "submit['SalePrice'] = lasso.predict(X_test_scale)"
   ]
  },
  {
   "cell_type": "code",
   "execution_count": 93,
   "metadata": {
    "scrolled": true
   },
   "outputs": [
    {
     "data": {
      "text/html": [
       "<div>\n",
       "<style scoped>\n",
       "    .dataframe tbody tr th:only-of-type {\n",
       "        vertical-align: middle;\n",
       "    }\n",
       "\n",
       "    .dataframe tbody tr th {\n",
       "        vertical-align: top;\n",
       "    }\n",
       "\n",
       "    .dataframe thead th {\n",
       "        text-align: right;\n",
       "    }\n",
       "</style>\n",
       "<table border=\"1\" class=\"dataframe\">\n",
       "  <thead>\n",
       "    <tr style=\"text-align: right;\">\n",
       "      <th></th>\n",
       "      <th>Id</th>\n",
       "      <th>SalePrice</th>\n",
       "    </tr>\n",
       "  </thead>\n",
       "  <tbody>\n",
       "    <tr>\n",
       "      <th>0</th>\n",
       "      <td>2658</td>\n",
       "      <td>111051.4707</td>\n",
       "    </tr>\n",
       "    <tr>\n",
       "      <th>1</th>\n",
       "      <td>2718</td>\n",
       "      <td>146884.8605</td>\n",
       "    </tr>\n",
       "    <tr>\n",
       "      <th>2</th>\n",
       "      <td>2414</td>\n",
       "      <td>213152.3634</td>\n",
       "    </tr>\n",
       "    <tr>\n",
       "      <th>3</th>\n",
       "      <td>1989</td>\n",
       "      <td>103309.8885</td>\n",
       "    </tr>\n",
       "    <tr>\n",
       "      <th>4</th>\n",
       "      <td>625</td>\n",
       "      <td>169350.5233</td>\n",
       "    </tr>\n",
       "  </tbody>\n",
       "</table>\n",
       "</div>"
      ],
      "text/plain": [
       "     Id   SalePrice\n",
       "0  2658 111051.4707\n",
       "1  2718 146884.8605\n",
       "2  2414 213152.3634\n",
       "3  1989 103309.8885\n",
       "4   625 169350.5233"
      ]
     },
     "execution_count": 93,
     "metadata": {},
     "output_type": "execute_result"
    }
   ],
   "source": [
    "submit.head()"
   ]
  },
  {
   "cell_type": "code",
   "execution_count": 94,
   "metadata": {},
   "outputs": [],
   "source": [
    "#Print csv file\n",
    "submit.to_csv('../Model/4_backward_elimination_lasso.csv',index=False)"
   ]
  },
  {
   "cell_type": "code",
   "execution_count": null,
   "metadata": {},
   "outputs": [],
   "source": []
  }
 ],
 "metadata": {
  "kernelspec": {
   "display_name": "Python 3",
   "language": "python",
   "name": "python3"
  },
  "language_info": {
   "codemirror_mode": {
    "name": "ipython",
    "version": 3
   },
   "file_extension": ".py",
   "mimetype": "text/x-python",
   "name": "python",
   "nbconvert_exporter": "python",
   "pygments_lexer": "ipython3",
   "version": "3.8.5"
  }
 },
 "nbformat": 4,
 "nbformat_minor": 4
}
